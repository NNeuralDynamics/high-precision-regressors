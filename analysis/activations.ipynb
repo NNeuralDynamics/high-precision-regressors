{
 "cells": [
  {
   "cell_type": "code",
   "execution_count": 1,
   "id": "3528ca55-8b69-4a40-b502-84ead9709794",
   "metadata": {},
   "outputs": [
    {
     "name": "stderr",
     "output_type": "stream",
     "text": [
      "2022-11-18 04:15:18.735612: I tensorflow/core/platform/cpu_feature_guard.cc:193] This TensorFlow binary is optimized with oneAPI Deep Neural Network Library (oneDNN) to use the following CPU instructions in performance-critical operations:  AVX2 FMA\n",
      "To enable them in other operations, rebuild TensorFlow with the appropriate compiler flags.\n",
      "2022-11-18 04:15:20.588804: W tensorflow/stream_executor/platform/default/dso_loader.cc:64] Could not load dynamic library 'libcudart.so.11.0'; dlerror: libcudart.so.11.0: cannot open shared object file: No such file or directory; LD_LIBRARY_PATH: /software/gcc/8.2/lib64:/software/openmpi-intel/3.1.6/lib:/opt/intel/2019/compilers_and_libraries/linux/compiler/lib/intel64_lin/:/beegfs/desy/user/apaul/HEPfit/BAT_parallel/lib:/home/apaul/opt/local/lib/root:/home/apaul/opt/local/lib:/home/apaul/opt/local/lib64:\n",
      "2022-11-18 04:15:20.588853: I tensorflow/stream_executor/cuda/cudart_stub.cc:29] Ignore above cudart dlerror if you do not have a GPU set up on your machine.\n",
      "2022-11-18 04:15:20.860864: E tensorflow/stream_executor/cuda/cuda_blas.cc:2981] Unable to register cuBLAS factory: Attempting to register factory for plugin cuBLAS when one has already been registered\n",
      "2022-11-18 04:15:37.839969: W tensorflow/stream_executor/platform/default/dso_loader.cc:64] Could not load dynamic library 'libnvinfer.so.7'; dlerror: libnvinfer.so.7: cannot open shared object file: No such file or directory; LD_LIBRARY_PATH: /software/gcc/8.2/lib64:/software/openmpi-intel/3.1.6/lib:/opt/intel/2019/compilers_and_libraries/linux/compiler/lib/intel64_lin/:/beegfs/desy/user/apaul/HEPfit/BAT_parallel/lib:/home/apaul/opt/local/lib/root:/home/apaul/opt/local/lib:/home/apaul/opt/local/lib64:\n",
      "2022-11-18 04:15:37.840819: W tensorflow/stream_executor/platform/default/dso_loader.cc:64] Could not load dynamic library 'libnvinfer_plugin.so.7'; dlerror: libnvinfer_plugin.so.7: cannot open shared object file: No such file or directory; LD_LIBRARY_PATH: /software/gcc/8.2/lib64:/software/openmpi-intel/3.1.6/lib:/opt/intel/2019/compilers_and_libraries/linux/compiler/lib/intel64_lin/:/beegfs/desy/user/apaul/HEPfit/BAT_parallel/lib:/home/apaul/opt/local/lib/root:/home/apaul/opt/local/lib:/home/apaul/opt/local/lib64:\n",
      "2022-11-18 04:15:37.840831: W tensorflow/compiler/tf2tensorrt/utils/py_utils.cc:38] TF-TRT Warning: Cannot dlopen some TensorRT libraries. If you would like to use Nvidia GPU with TensorRT, please make sure the missing libraries mentioned above are installed properly.\n"
     ]
    }
   ],
   "source": [
    "import pandas as pd\n",
    "import numpy as np\n",
    "import matplotlib.pyplot as plt\n",
    "import tensorflow as tf\n",
    "from pyspark.sql import SparkSession\n",
    "from pyspark.sql import dataframe\n",
    "from pyspark.sql.types import StructType, StructField, DoubleType\n",
    "import time\n",
    "import glob\n",
    "import json\n",
    "\n",
    "from matplotlib import rc\n",
    "\n",
    "rc('text', usetex=True)\n",
    "plt.rcParams['text.latex.preamble'] = []\n",
    "plt.rcParams['font.family'] = 'serif'\n",
    "plt.rcParams['font.serif'] = 'Times New Roman'\n",
    "plt.rcParams['font.weight'] = 'light'\n",
    "\n",
    "activations = ['relu', 'softplus', 'leaky_relu', 'elu']"
   ]
  },
  {
   "cell_type": "code",
   "execution_count": 2,
   "id": "ae91fc1d-9b71-4c70-99a7-b6590b12ea81",
   "metadata": {},
   "outputs": [],
   "source": [
    "def testModel(path: str, df_i: pd.DataFrame):\n",
    "    df = df_i.copy(deep=True)\n",
    "    if any(x in path for x in ['dnn', 'skip']):\n",
    "        # load the model\n",
    "        regressor = tf.keras.models.load_model(glob.glob(path+'dnn-*.tfm.hdf5')[0])\n",
    "        # load the best weights\n",
    "        regressor.load_weights(glob.glob(path+'checkpoint-*.hdf5')[0])\n",
    "        #load the config file\n",
    "        with open(glob.glob(path+'config*.json')[0]) as f:\n",
    "            config = json.load(f)\n",
    "    \n",
    "    input_shape = config['input_shape']\n",
    "    if config['scaled'] == 'normal':\n",
    "        df['y_pred'] = regressor.predict(df[['x'+str(i+1) for i in range(input_shape)]]) * config['sigma'] + config['mu']\n",
    "    else:\n",
    "        df['y_pred'] = regressor.predict(df[['x'+str(i+1) for i in range(input_shape)]])\n",
    "        \n",
    "    df['relative_error'] = (1 - df['y_pred']/df['yN'])\n",
    "    df['relative_percentage_error'] = df['relative_error'] * 100\n",
    "    \n",
    "    return config, df"
   ]
  },
  {
   "cell_type": "code",
   "execution_count": 3,
   "id": "9145aad6-774c-4623-94a0-0215e73138a6",
   "metadata": {},
   "outputs": [
    {
     "name": "stderr",
     "output_type": "stream",
     "text": [
      "Setting default log level to \"WARN\".\n",
      "To adjust logging level use sc.setLogLevel(newLevel). For SparkR, use setLogLevel(newLevel).\n"
     ]
    },
    {
     "name": "stdout",
     "output_type": "stream",
     "text": [
      "22/11/18 04:16:11 WARN NativeCodeLoader: Unable to load native-hadoop library for your platform... using builtin-java classes where applicable\n",
      "22/11/18 04:16:12 WARN Utils: Service 'SparkUI' could not bind on port 4040. Attempting port 4041.\n",
      "22/11/18 04:16:12 WARN Utils: Service 'SparkUI' could not bind on port 4041. Attempting port 4042.\n",
      "22/11/18 04:16:12 WARN Utils: Service 'SparkUI' could not bind on port 4042. Attempting port 4043.\n",
      "22/11/18 04:16:12 WARN Utils: Service 'SparkUI' could not bind on port 4043. Attempting port 4044.\n"
     ]
    },
    {
     "name": "stderr",
     "output_type": "stream",
     "text": [
      "                                                                                \r"
     ]
    },
    {
     "name": "stdout",
     "output_type": "stream",
     "text": [
      "INFO: data loaded into Spark session in 4.105 seconds\n"
     ]
    }
   ],
   "source": [
    "# Spark session and configuration\n",
    "spark = (SparkSession.builder.master(\"local[48]\")\n",
    "         .config('spark.executor.instances', 16)\n",
    "         .config('spark.executor.cores', 16)\n",
    "         .config('spark.executor.memory', '10g')\n",
    "         .config('spark.driver.memory', '15g')\n",
    "         .config('spark.memory.offHeap.enabled', True)\n",
    "         .config('spark.memory.offHeap.size', '20g')\n",
    "         .config('spark.dirver.maxResultSize', '20g')\n",
    "         .config('spark.debug.maxToStringFields', 100)\n",
    "         .appName(\"amp.hell\").getOrCreate())\n",
    "\n",
    "# Enable Arrow-based columnar data \n",
    "spark.conf.set(\"spark.sql.execution.arrow.pyspark.enabled\", \"true\")\n",
    "spark.conf.set(\n",
    "    \"spark.sql.execution.arrow.pyspark.fallback.enabled\", \"true\"\n",
    ")\n",
    "\n",
    "# read the data into a spark frame\n",
    "start = time.time()\n",
    "path = '../data/'\n",
    "header = ['x'+str(i+1) for i in range(8)] + ['yN', 'y_2'] \n",
    "schema = StructType([StructField(header[i], DoubleType(), True) for i in range(10)])\n",
    "df = spark.read.options(delimiter=',').schema(schema).format(\"csv\").load(path+str(8)+'D'+'/test/*.csv.*', header='true')\n",
    "\n",
    "print('INFO: data loaded into Spark session in {:.3f} seconds'.format(time.time() - start))"
   ]
  },
  {
   "cell_type": "code",
   "execution_count": 4,
   "id": "d0b49bae-4e1f-4789-b980-5ce43685ff6f",
   "metadata": {},
   "outputs": [
    {
     "name": "stderr",
     "output_type": "stream",
     "text": [
      "                                                                                \r"
     ]
    },
    {
     "name": "stdout",
     "output_type": "stream",
     "text": [
      "INFO: data loaded into pandas dataframe in 9.108 seconds\n"
     ]
    }
   ],
   "source": [
    "# transfer the data to a pandas dataframe\n",
    "start = time.time()\n",
    "df_p = df.limit(1000000).toPandas() \n",
    "print('INFO: data loaded into pandas dataframe in {:.3f} seconds'.format(time.time() - start))"
   ]
  },
  {
   "cell_type": "code",
   "execution_count": 5,
   "id": "37cfedbb-e1ce-4e1f-98e1-7a321ddf02eb",
   "metadata": {},
   "outputs": [
    {
     "name": "stderr",
     "output_type": "stream",
     "text": [
      "2022-11-18 04:16:29.502030: W tensorflow/stream_executor/platform/default/dso_loader.cc:64] Could not load dynamic library 'libcuda.so.1'; dlerror: libcuda.so.1: cannot open shared object file: No such file or directory; LD_LIBRARY_PATH: /software/gcc/8.2/lib64:/software/openmpi-intel/3.1.6/lib:/opt/intel/2019/compilers_and_libraries/linux/compiler/lib/intel64_lin/:/beegfs/desy/user/apaul/HEPfit/BAT_parallel/lib:/home/apaul/opt/local/lib/root:/home/apaul/opt/local/lib:/home/apaul/opt/local/lib64:\n",
      "2022-11-18 04:16:29.502301: W tensorflow/stream_executor/cuda/cuda_driver.cc:263] failed call to cuInit: UNKNOWN ERROR (303)\n",
      "2022-11-18 04:16:29.502338: I tensorflow/stream_executor/cuda/cuda_diagnostics.cc:156] kernel driver does not appear to be running on this host (max-wne001.desy.de): /proc/driver/nvidia/version does not exist\n",
      "2022-11-18 04:16:29.502938: I tensorflow/core/platform/cpu_feature_guard.cc:193] This TensorFlow binary is optimized with oneAPI Deep Neural Network Library (oneDNN) to use the following CPU instructions in performance-critical operations:  AVX2 FMA\n",
      "To enable them in other operations, rebuild TensorFlow with the appropriate compiler flags.\n"
     ]
    },
    {
     "name": "stdout",
     "output_type": "stream",
     "text": [
      "31250/31250 [==============================] - 23s 728us/step\n",
      "31250/31250 [==============================] - 27s 845us/step\n",
      "31250/31250 [==============================] - 25s 794us/step\n",
      "31250/31250 [==============================] - 33s 1ms/step\n",
      "31250/31250 [==============================] - 27s 839us/step\n"
     ]
    }
   ],
   "source": [
    "config_relu, df_relu = testModel('../src/dnn/activations/skip-tf-8D-yN-de63a534-normal-9-50-relu-512-adam-exp-schedule-mse-val_mse-84.159706-99.966286/', df_p)\n",
    "config_elu, df_elu = testModel('../src/dnn/activations/skip-tf-8D-yN-9a7d4987-normal-9-50-elu-512-adam-exp-schedule-mse-val_mse-57.544025-99.669405/', df_p)\n",
    "config_leaky_relu, df_leaky_relu = testModel('../src/dnn/activations/skip-tf-8D-yN-c950b6c9-normal-9-50-leaky_relu-512-adam-exp-schedule-mse-val_mse-93.360493-99.984633/', df_p)\n",
    "config_softplus, df_softplus = testModel('../src/dnn/activations/skip-tf-8D-yN-9e11027b-normal-9-50-softplus-512-adam-exp-schedule-mse-val_mse-60.018051-99.813636/', df_p)\n",
    "config_swish, df_swish = testModel('../src/dnn/activations/skip-tf-8D-yN-0a9e7cf7-normal-9-50-swish-512-adam-exp-schedule-mse-val_mse-51.167661-99.604730/', df_p)"
   ]
  },
  {
   "cell_type": "code",
   "execution_count": 13,
   "id": "ffdf3e6b-2a31-4489-9c01-296eaa194bec",
   "metadata": {},
   "outputs": [
    {
     "data": {
      "image/png": "[encoded data removed]",
      "text/plain": [
       "<Figure size 576x396 with 1 Axes>"
      ]
     },
     "metadata": {
      "needs_background": "light"
     },
     "output_type": "display_data"
    }
   ],
   "source": [
    "plt.figure(figsize=(8,5.5))\n",
    "lim = 7.5\n",
    "bins = 250\n",
    "linewidth = 3\n",
    "plt.hist(df_leaky_relu[abs(df_leaky_relu['relative_percentage_error']) < lim]['relative_percentage_error'], bins=bins, histtype='step', linewidth=linewidth, density=True, label='Leaky ReLU')\n",
    "plt.hist(df_relu[abs(df_relu['relative_percentage_error']) < lim]['relative_percentage_error'], bins=bins, histtype='step', linewidth=linewidth, density=True, label='ReLU')\n",
    "plt.hist(df_softplus[abs(df_softplus['relative_percentage_error']) < lim]['relative_percentage_error'], bins=bins, histtype='step', linewidth=linewidth, density=True, label='softplus')\n",
    "plt.hist(df_elu[abs(df_elu['relative_percentage_error']) < lim]['relative_percentage_error'], bins=bins, histtype='step', linewidth=linewidth, density=True, label='ELU')\n",
    "# plt.hist(df_swish[abs(df_swish['relative_percentage_error']) < lim]['relative_percentage_error'], bins=bins, histtype='step', linewidth=linewidth, density=True, label='swish')\n",
    "\n",
    "plt.xlabel(r'$\\delta$ (\\%)', fontsize=20)\n",
    "plt.xticks(fontsize=20)\n",
    "plt.yticks(fontsize=20)\n",
    "plt.xlim((-lim, lim))\n",
    "plt.grid(':', alpha=0.5)\n",
    "plt.legend(fontsize=20)\n",
    "\n",
    "plt.tight_layout()\n",
    "plt.savefig('../plots/activations.pdf', dpi=300)\n",
    "plt.show()"
   ]
  }
 ],
 "metadata": {
  "kernelspec": {
   "display_name": "Python 3",
   "language": "python",
   "name": "python3"
  },
  "language_info": {
   "codemirror_mode": {
    "name": "ipython",
    "version": 3
   },
   "file_extension": ".py",
   "mimetype": "text/x-python",
   "name": "python",
   "nbconvert_exporter": "python",
   "pygments_lexer": "ipython3",
   "version": "3.8.12"
  }
 },
 "nbformat": 4,
 "nbformat_minor": 5
}
