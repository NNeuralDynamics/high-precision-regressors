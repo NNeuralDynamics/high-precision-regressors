{
 "cells": [
  {
   "cell_type": "code",
   "execution_count": 1,
   "id": "31530b99-aaf7-435f-a760-a3b433b810cd",
   "metadata": {},
   "outputs": [
    {
     "name": "stderr",
     "output_type": "stream",
     "text": [
      "2022-11-19 03:26:23.551155: I tensorflow/core/platform/cpu_feature_guard.cc:193] This TensorFlow binary is optimized with oneAPI Deep Neural Network Library (oneDNN) to use the following CPU instructions in performance-critical operations:  AVX2 FMA\n",
      "To enable them in other operations, rebuild TensorFlow with the appropriate compiler flags.\n",
      "2022-11-19 03:26:25.666089: W tensorflow/stream_executor/platform/default/dso_loader.cc:64] Could not load dynamic library 'libcudart.so.11.0'; dlerror: libcudart.so.11.0: cannot open shared object file: No such file or directory; LD_LIBRARY_PATH: /software/gcc/8.2/lib64:/software/openmpi-intel/3.1.6/lib:/opt/intel/2019/compilers_and_libraries/linux/compiler/lib/intel64_lin/:/beegfs/desy/user/apaul/HEPfit/BAT_parallel/lib:/home/apaul/opt/local/lib/root:/home/apaul/opt/local/lib:/home/apaul/opt/local/lib64:\n",
      "2022-11-19 03:26:25.666128: I tensorflow/stream_executor/cuda/cudart_stub.cc:29] Ignore above cudart dlerror if you do not have a GPU set up on your machine.\n",
      "2022-11-19 03:26:25.852136: E tensorflow/stream_executor/cuda/cuda_blas.cc:2981] Unable to register cuBLAS factory: Attempting to register factory for plugin cuBLAS when one has already been registered\n",
      "2022-11-19 03:26:43.674860: W tensorflow/stream_executor/platform/default/dso_loader.cc:64] Could not load dynamic library 'libnvinfer.so.7'; dlerror: libnvinfer.so.7: cannot open shared object file: No such file or directory; LD_LIBRARY_PATH: /software/gcc/8.2/lib64:/software/openmpi-intel/3.1.6/lib:/opt/intel/2019/compilers_and_libraries/linux/compiler/lib/intel64_lin/:/beegfs/desy/user/apaul/HEPfit/BAT_parallel/lib:/home/apaul/opt/local/lib/root:/home/apaul/opt/local/lib:/home/apaul/opt/local/lib64:\n",
      "2022-11-19 03:26:43.675648: W tensorflow/stream_executor/platform/default/dso_loader.cc:64] Could not load dynamic library 'libnvinfer_plugin.so.7'; dlerror: libnvinfer_plugin.so.7: cannot open shared object file: No such file or directory; LD_LIBRARY_PATH: /software/gcc/8.2/lib64:/software/openmpi-intel/3.1.6/lib:/opt/intel/2019/compilers_and_libraries/linux/compiler/lib/intel64_lin/:/beegfs/desy/user/apaul/HEPfit/BAT_parallel/lib:/home/apaul/opt/local/lib/root:/home/apaul/opt/local/lib:/home/apaul/opt/local/lib64:\n",
      "2022-11-19 03:26:43.675660: W tensorflow/compiler/tf2tensorrt/utils/py_utils.cc:38] TF-TRT Warning: Cannot dlopen some TensorRT libraries. If you would like to use Nvidia GPU with TensorRT, please make sure the missing libraries mentioned above are installed properly.\n"
     ]
    }
   ],
   "source": [
    "import pandas as pd\n",
    "import numpy as np\n",
    "import matplotlib.pyplot as plt\n",
    "import tensorflow as tf\n",
    "from pyspark.sql import SparkSession\n",
    "from pyspark.sql import dataframe\n",
    "from pyspark.sql.types import StructType, StructField, DoubleType\n",
    "import xgboost as xgb\n",
    "import time\n",
    "import glob\n",
    "import json\n",
    "\n",
    "from matplotlib import rc\n",
    "\n",
    "rc('text', usetex=True)\n",
    "plt.rcParams['text.latex.preamble'] = []\n",
    "plt.rcParams['font.family'] = 'serif'\n",
    "plt.rcParams['font.serif'] = 'Times New Roman'\n",
    "plt.rcParams['font.weight'] = 'light'\n",
    "\n",
    "df_dict = {}"
   ]
  },
  {
   "cell_type": "code",
   "execution_count": 13,
   "id": "6c490cc3-2275-4387-bb97-36f9832cfda0",
   "metadata": {},
   "outputs": [],
   "source": [
    "# Spark session and configuration\n",
    "spark = (SparkSession.builder.master(\"local[48]\")\n",
    "         .config('spark.executor.instances', 16)\n",
    "         .config('spark.executor.cores', 16)\n",
    "         .config('spark.executor.memory', '10g')\n",
    "         .config('spark.driver.memory', '15g')\n",
    "         .config('spark.memory.offHeap.enabled', True)\n",
    "         .config('spark.memory.offHeap.size', '20g')\n",
    "         .config('spark.dirver.maxResultSize', '20g')\n",
    "         .config('spark.debug.maxToStringFields', 100)\n",
    "         .appName(\"amp.hell\").getOrCreate())\n",
    "\n",
    "# Enable Arrow-based columnar data \n",
    "spark.conf.set(\"spark.sql.execution.arrow.pyspark.enabled\", \"true\")\n",
    "spark.conf.set(\n",
    "    \"spark.sql.execution.arrow.pyspark.fallback.enabled\", \"true\"\n",
    ")\n",
    "\n",
    "\n",
    "def loadData(dim=8, spark=spark):\n",
    "    # read the data into a spark frame\n",
    "    start = time.time()\n",
    "    path = '../data/'\n",
    "    header = ['x'+str(i+1) for i in range(dim)] + ['yN', 'y_2'] \n",
    "    schema = StructType([StructField(header[i], DoubleType(), True) for i in range(dim+2)])\n",
    "    df = spark.read.options(delimiter=',').schema(schema).format(\"csv\").load(path+str(dim)+'D'+'/test/*.csv.*', header='true')\n",
    "\n",
    "    print('INFO: '+str(dim)+'D data loaded into Spark session in {:.3f} seconds'.format(time.time() - start))\n",
    "\n",
    "    # transfer the data to a pandas dataframe\n",
    "    start = time.time()\n",
    "    df_p = df.limit(1000000).toPandas() \n",
    "    print('INFO: '+str(dim)+'D data loaded into pandas dataframe in {:.3f} seconds'.format(time.time() - start))\n",
    "    return df_p\n",
    "\n",
    "\n",
    "def testModel(path: str, df_dict=df_dict, column='yN'):\n",
    "#     df = df_in.copy(deep=True)\n",
    "    if any(x in path for x in ['dnn', 'skip']):\n",
    "        # load the model\n",
    "        regressor = tf.keras.models.load_model(glob.glob(path+'/dnn-*.tfm.hdf5')[0])\n",
    "        # load the best weights\n",
    "        regressor.load_weights(glob.glob(path+'/checkpoint-*.hdf5')[0])\n",
    "        #load the config file\n",
    "        with open(glob.glob(path+'/config*.json')[0]) as f:\n",
    "            config = json.load(f)\n",
    "        key = str(config['input_shape']) +'-'+ str(config['model_type']) +'-'+ str(config['depth']) + '-' + str(int(config['sample-size']/1e6))\n",
    "        \n",
    "    if 'bdt' in path:\n",
    "        # load the model\n",
    "        regressor = xgb.XGBRegressor()\n",
    "        regressor.load_model(glob.glob(path+'/bdt*.ubj')[0])\n",
    "        #load the config file\n",
    "        with open(glob.glob(path+'/config*.json')[0]) as f:\n",
    "            config = json.load(f)\n",
    "        key = str(config['input_shape']) +'-bdt-'+ str(config['max_depth']) + '-' + str(int(config['sample-size']/1e6))\n",
    "            \n",
    "    df = df_dict[str(config['input_shape'])].copy(deep=True)\n",
    "    \n",
    "    if config['scaled'] == 'normal':\n",
    "        df['y_pred'] = regressor.predict(df[['x'+str(i+1) for i in range(config['input_shape'])]]) * config['sigma'] + config['mu']\n",
    "    elif config['scaled'] == 'log':\n",
    "        df['y_pred'] = np.exp(regressor.predict(df[['x'+str(i+1) for i in range(config['input_shape'])]]) * config['sigma'] + config['mu'])\n",
    "    else:\n",
    "        df['y_pred'] = regressor.predict(df[['x'+str(i+1) for i in range(config['input_shape'])]])\n",
    "        \n",
    "    df['relative_error'] = df['y_pred']/df[column] - 1\n",
    "    df['relative_percentage_error'] = df['relative_error'] * 100\n",
    "    \n",
    "    data[key] = {}\n",
    "    data[key]['config'] = config\n",
    "    data[key]['df'] = df\n",
    "\n",
    "\n",
    "def labeler(index: str, t=0) -> str:\n",
    "    if t == 0:\n",
    "        return '{}-{} ({:,})'.format(data[index]['config']['depth'], data[index]['config']['width'], data[index]['config']['trainable_parameters'])\n",
    "    else:\n",
    "        return 'max-depth: {}'.format(str(data[index]['config']['max_depth']))\n",
    "    \n",
    "    \n",
    "def getErrorTail(bound: float):\n",
    "    errorTails = {}\n",
    "    for key in data.keys():\n",
    "        errorTails[key] = {}\n",
    "        errorTails[key]['type'] = data[key]['config']['model_type'] if 'model_type' in data[key]['config'].keys() else 'bdt'\n",
    "        errorTails[key]['dim'] = data[key]['config']['input_shape']\n",
    "        errorTails[key]['depth'] = data[key]['config']['depth'] if 'depth' in data[key]['config'].keys() else data[key]['config']['max_depth']\n",
    "        errorTails[key]['width'] = data[key]['config']['width'] if 'width' in data[key]['config'].keys() else ''\n",
    "        errorTails[key]['sample'] = data[key]['config']['sample-size']\n",
    "        errorTails[key]['error < '+str(bound)+'%'] = np.round((data[key]['df'][abs(data[key]['df']['relative_percentage_error']) < bound].shape[0]/data[key]['df'].shape[0])*100, 2)\n",
    "        errorTails[key]['$\\mu_{error}$ (%)'] = (np.round(data[key]['df']['relative_percentage_error'].abs().mean(), 4))\n",
    "        errorTails[key]['$\\sigma_{error}$ (%)'] = np.round(data[key]['df']['relative_percentage_error'].std(), 2)\n",
    "    return errorTails"
   ]
  },
  {
   "cell_type": "code",
   "execution_count": 3,
   "id": "4a1175da-eaa9-4826-bd48-80bc7d0acbdb",
   "metadata": {},
   "outputs": [
    {
     "name": "stderr",
     "output_type": "stream",
     "text": [
      "                                                                                \r"
     ]
    },
    {
     "name": "stdout",
     "output_type": "stream",
     "text": [
      "INFO: 2D data loaded into Spark session in 4.086 seconds\n"
     ]
    },
    {
     "name": "stderr",
     "output_type": "stream",
     "text": [
      "                                                                                \r"
     ]
    },
    {
     "name": "stdout",
     "output_type": "stream",
     "text": [
      "INFO: 2D data loaded into pandas dataframe in 6.809 seconds\n",
      "INFO: 4D data loaded into Spark session in 0.329 seconds\n"
     ]
    },
    {
     "name": "stderr",
     "output_type": "stream",
     "text": [
      "                                                                                \r"
     ]
    },
    {
     "name": "stdout",
     "output_type": "stream",
     "text": [
      "INFO: 4D data loaded into pandas dataframe in 6.008 seconds\n",
      "INFO: 8D data loaded into Spark session in 0.291 seconds\n"
     ]
    },
    {
     "name": "stderr",
     "output_type": "stream",
     "text": [
      "                                                                                \r"
     ]
    },
    {
     "name": "stdout",
     "output_type": "stream",
     "text": [
      "INFO: 8D data loaded into pandas dataframe in 6.765 seconds\n"
     ]
    }
   ],
   "source": [
    "df_dict['2'] = loadData(2)\n",
    "df_dict['4'] = loadData(4)\n",
    "df_dict['8'] = loadData(8)\n",
    "files = sorted(glob.glob('../src/dnn/RUNS-sample-size-II/*leaky_relu*'))"
   ]
  },
  {
   "cell_type": "code",
   "execution_count": 4,
   "id": "49944714-512f-48b8-a1f2-21e05ac9027a",
   "metadata": {},
   "outputs": [
    {
     "name": "stderr",
     "output_type": "stream",
     "text": [
      "2022-11-19 03:27:47.689077: W tensorflow/stream_executor/platform/default/dso_loader.cc:64] Could not load dynamic library 'libcuda.so.1'; dlerror: libcuda.so.1: cannot open shared object file: No such file or directory; LD_LIBRARY_PATH: /software/gcc/8.2/lib64:/software/openmpi-intel/3.1.6/lib:/opt/intel/2019/compilers_and_libraries/linux/compiler/lib/intel64_lin/:/beegfs/desy/user/apaul/HEPfit/BAT_parallel/lib:/home/apaul/opt/local/lib/root:/home/apaul/opt/local/lib:/home/apaul/opt/local/lib64:\n",
      "2022-11-19 03:27:47.689285: W tensorflow/stream_executor/cuda/cuda_driver.cc:263] failed call to cuInit: UNKNOWN ERROR (303)\n",
      "2022-11-19 03:27:47.689322: I tensorflow/stream_executor/cuda/cuda_diagnostics.cc:156] kernel driver does not appear to be running on this host (max-wne001.desy.de): /proc/driver/nvidia/version does not exist\n",
      "2022-11-19 03:27:47.690029: I tensorflow/core/platform/cpu_feature_guard.cc:193] This TensorFlow binary is optimized with oneAPI Deep Neural Network Library (oneDNN) to use the following CPU instructions in performance-critical operations:  AVX2 FMA\n",
      "To enable them in other operations, rebuild TensorFlow with the appropriate compiler flags.\n"
     ]
    },
    {
     "name": "stdout",
     "output_type": "stream",
     "text": [
      "31250/31250 [==============================] - 18s 559us/step\n",
      "31250/31250 [==============================] - 17s 531us/step\n",
      "31250/31250 [==============================] - 17s 538us/step\n",
      "31250/31250 [==============================] - 17s 531us/step\n",
      "31250/31250 [==============================] - 17s 529us/step\n",
      "31250/31250 [==============================] - 18s 565us/step\n",
      "31250/31250 [==============================] - 17s 527us/step\n",
      "31250/31250 [==============================] - 17s 539us/step\n",
      "31250/31250 [==============================] - 17s 526us/step\n",
      "31250/31250 [==============================] - 17s 545us/step\n",
      "31250/31250 [==============================] - 18s 586us/step\n",
      "31250/31250 [==============================] - 18s 581us/step\n",
      "31250/31250 [==============================] - 18s 577us/step\n",
      "31250/31250 [==============================] - 18s 580us/step\n",
      "31250/31250 [==============================] - 19s 598us/step\n",
      "31250/31250 [==============================] - 24s 765us/step\n",
      "31250/31250 [==============================] - 24s 758us/step\n",
      "31250/31250 [==============================] - 23s 729us/step\n",
      "31250/31250 [==============================] - 24s 765us/step\n",
      "31250/31250 [==============================] - 23s 738us/step\n",
      "31250/31250 [==============================] - 24s 773us/step\n",
      "31250/31250 [==============================] - 25s 807us/step\n",
      "31250/31250 [==============================] - 25s 779us/step\n",
      "31250/31250 [==============================] - 24s 758us/step\n",
      "31250/31250 [==============================] - 25s 803us/step\n",
      "31250/31250 [==============================] - 28s 877us/step\n",
      "31250/31250 [==============================] - 27s 861us/step\n",
      "31250/31250 [==============================] - 28s 896us/step\n",
      "31250/31250 [==============================] - 28s 890us/step\n",
      "31250/31250 [==============================] - 27s 866us/step\n",
      "31250/31250 [==============================] - 27s 861us/step\n"
     ]
    }
   ],
   "source": [
    "data = {}\n",
    "\n",
    "for file in files:\n",
    "    testModel(file, df_dict)"
   ]
  },
  {
   "cell_type": "code",
   "execution_count": 8,
   "id": "d78afbe1-fd04-4166-b457-aeac9a5dacf3",
   "metadata": {},
   "outputs": [],
   "source": [
    "bdt_files = sorted(glob.glob('../src/bdt/RUNS-sample-size-II/*-yN-normal*'))"
   ]
  },
  {
   "cell_type": "code",
   "execution_count": 9,
   "id": "b27f0b5c-2668-4a9d-ab11-07c204c56e4c",
   "metadata": {},
   "outputs": [],
   "source": [
    "for file in bdt_files:\n",
    "    testModel(file, df_dict)"
   ]
  },
  {
   "cell_type": "code",
   "execution_count": 29,
   "id": "dad8cd48-caa8-4ede-9cbf-599931079e82",
   "metadata": {},
   "outputs": [],
   "source": [
    "errorTails = getErrorTail(1)"
   ]
  },
  {
   "cell_type": "code",
   "execution_count": 15,
   "id": "e6a64e62-4533-4464-92a6-7f1abd68f4e4",
   "metadata": {},
   "outputs": [],
   "source": [
    "df_data = pd.DataFrame(columns=['type', 'dim', 'depth', 'num_trees', 'sample', 'delta1', 'absdelta'])\n",
    "for key in errorTails.keys():\n",
    "    df_data.loc[len(df_data)] = [errorTails[key]['type'], errorTails[key]['dim'], errorTails[key]['depth'], errorTails[key]['width'], errorTails[key]['sample'],\n",
    "                                 errorTails[key]['error < 1%'], errorTails[key]['$\\mu_{error}$ (%)']]"
   ]
  },
  {
   "cell_type": "code",
   "execution_count": 26,
   "id": "c50c1b17-1e65-4ae6-87ae-e3e22f928e6b",
   "metadata": {},
   "outputs": [],
   "source": [
    "ex_files = sorted(glob.glob('../src/dnn/dv-back/*-normal-*'))"
   ]
  },
  {
   "cell_type": "code",
   "execution_count": 28,
   "id": "b579e78a-afe9-46ed-9624-2fedd70415d3",
   "metadata": {},
   "outputs": [
    {
     "name": "stdout",
     "output_type": "stream",
     "text": [
      "31250/31250 [==============================] - 27s 851us/step\n"
     ]
    }
   ],
   "source": [
    "for file in ex_files:\n",
    "    testModel(file, df_dict)"
   ]
  },
  {
   "cell_type": "code",
   "execution_count": 21,
   "id": "b56c7efe-bfea-48a0-a388-230c380859b8",
   "metadata": {},
   "outputs": [],
   "source": [
    "df_2D = pd.read_csv('../../machine-casting/results/data-volume-bdt-2D.csv')\n",
    "df_4D = pd.read_csv('../../machine-casting/results/data-volume-bdt-4D.csv')\n",
    "df_8D = pd.read_csv('../../machine-casting/results/data-volume-bdt-8D.csv')"
   ]
  },
  {
   "cell_type": "code",
   "execution_count": 31,
   "id": "aeb29545-5891-4859-aa86-0f41ce10f03c",
   "metadata": {},
   "outputs": [
    {
     "data": {
      "image/png": "[encoded data removed]",
      "text/plain": [
       "<Figure size 576x396 with 1 Axes>"
      ]
     },
     "metadata": {
      "needs_background": "light"
     },
     "output_type": "display_data"
    }
   ],
   "source": [
    "plt.figure(figsize=(8,5.5))\n",
    "linewidth = 2\n",
    "markersize = 8\n",
    "fact = 1e6/0.8/0.6\n",
    "pdf = df_data[(df_data['type'] == 'dnn') & (df_data['dim'] == 2)][['sample', 'delta1']].sort_values(by='sample')\n",
    "plt.plot(pdf['sample']/fact, pdf['delta1'], linewidth=linewidth, label='2D DNN (8-56)', marker= 'o', markersize=markersize)\n",
    "\n",
    "pdf = df_data[(df_data['type'] == 'dnn') & (df_data['dim'] == 4)][['sample', 'delta1']].sort_values(by='sample')\n",
    "plt.plot(pdf['sample']/fact, pdf['delta1'], linewidth=linewidth, label='4D DNN (8-72)', marker= 'o', markersize=markersize)\n",
    "\n",
    "pdf = df_data[(df_data['type'] == 'dnn') & (df_data['dim'] == 8)][['sample', 'delta1']].sort_values(by='sample')\n",
    "plt.plot(pdf['sample']/fact, pdf['delta1'], linewidth=linewidth, label='8D DNN (8-100)', marker= 'o', markersize=markersize)\n",
    "\n",
    "pdf = df_data[(df_data['type'] == 'skip') & (df_data['dim'] == 2)][['sample', 'delta1']].sort_values(by='sample')\n",
    "plt.plot(pdf['sample']/fact, pdf['delta1'], linewidth=linewidth, label='2D sk-DNN (9-28)', marker= 'o', markersize=markersize, linestyle='dashed')\n",
    "\n",
    "pdf = df_data[(df_data['type'] == 'skip') & (df_data['dim'] == 4)][['sample', 'delta1']].sort_values(by='sample')\n",
    "plt.plot(pdf['sample']/fact, pdf['delta1'], linewidth=linewidth, label='4D sk-DNN (9-36)', marker= 'o', markersize=markersize, linestyle='dashed')\n",
    "\n",
    "pdf = df_data[(df_data['type'] == 'skip') & (df_data['dim'] == 8)][['sample', 'delta1']].sort_values(by='sample')\n",
    "plt.plot(pdf['sample']/fact, pdf['delta1'], linewidth=linewidth, label='8D sk-DNN (9-50)', marker= 'o', markersize=markersize, linestyle='dashed')\n",
    "\n",
    "plt.plot(df_2D['0'], df_2D['1'], marker='o', linewidth=2, markersize=8, label=r'2D BDT (20)')\n",
    "\n",
    "pdf = df_data[(df_data['type'] == 'bdt') & (df_data['dim'] == 4)][['sample', 'delta1']].sort_values(by='sample')\n",
    "plt.plot(pdf['sample']/fact, pdf['delta1'], linewidth=linewidth, label='4D BDT (20)', marker= 'o', markersize=markersize, linestyle='dashed')\n",
    "\n",
    "pdf = df_data[(df_data['type'] == 'bdt') & (df_data['dim'] == 8)][['sample', 'delta1']].sort_values(by='sample')\n",
    "plt.plot(pdf['sample']/fact, pdf['delta1'], linewidth=linewidth, label='8D BDT (20)', marker= 'o', markersize=markersize, linestyle='dashed')\n",
    "\n",
    "\n",
    "# plt.plot(df_4D['0'], df_4D['1'], marker='o', linewidth=2, markersize=8, label=r'4D BDT')\n",
    "# plt.plot(df_8D['0'], df_8D['1'], marker='o', linewidth=2, markersize=8, label=r'8D BDT')\n",
    "\n",
    "plt.legend(fontsize=14, loc='lower center', ncol=3)\n",
    "plt.xlabel(r'size of training set in $10^6$', fontsize=20)\n",
    "plt.ylabel(r'fraction of test set with $|\\delta| < 1\\% \\;(\\%)$', fontsize=20)\n",
    "plt.yticks(fontsize=20)\n",
    "plt.xticks(fontsize=20)\n",
    "# plt.xscale('log')\n",
    "# plt.yscale('log')\n",
    "plt.ylim(40, 101)\n",
    "\n",
    "plt.xticks(pdf['sample'].values/fact, fontsize=20)\n",
    "plt.grid(linestyle='dashed', alpha=0.4, color='#808080')\n",
    "plt.tight_layout()\n",
    "plt.savefig('../plots/data-volume.pdf', dpi=300)\n",
    "plt.show()"
   ]
  }
 ],
 "metadata": {
  "kernelspec": {
   "display_name": "Python 3",
   "language": "python",
   "name": "python3"
  },
  "language_info": {
   "codemirror_mode": {
    "name": "ipython",
    "version": 3
   },
   "file_extension": ".py",
   "mimetype": "text/x-python",
   "name": "python",
   "nbconvert_exporter": "python",
   "pygments_lexer": "ipython3",
   "version": "3.8.12"
  }
 },
 "nbformat": 4,
 "nbformat_minor": 5
}
